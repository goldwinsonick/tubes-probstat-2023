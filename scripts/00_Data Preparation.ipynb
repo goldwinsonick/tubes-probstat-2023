{
 "cells": [
  {
   "cell_type": "markdown",
   "metadata": {},
   "source": [
    "# Data Preparation"
   ]
  },
  {
   "cell_type": "markdown",
   "metadata": {},
   "source": [
    "### Imports"
   ]
  },
  {
   "cell_type": "code",
   "execution_count": 248,
   "metadata": {},
   "outputs": [
    {
     "data": {
      "text/html": [
       "<div>\n",
       "<style scoped>\n",
       "    .dataframe tbody tr th:only-of-type {\n",
       "        vertical-align: middle;\n",
       "    }\n",
       "\n",
       "    .dataframe tbody tr th {\n",
       "        vertical-align: top;\n",
       "    }\n",
       "\n",
       "    .dataframe thead th {\n",
       "        text-align: right;\n",
       "    }\n",
       "</style>\n",
       "<table border=\"1\" class=\"dataframe\">\n",
       "  <thead>\n",
       "    <tr style=\"text-align: right;\">\n",
       "      <th></th>\n",
       "      <th>Jenis Kelamin</th>\n",
       "      <th>Usia</th>\n",
       "      <th>Pendidikan Terakhir</th>\n",
       "      <th>Pekerjaan</th>\n",
       "      <th>Penghasilan per Bulan</th>\n",
       "      <th>Domisili</th>\n",
       "      <th>Durasi Penggunaan Internet per Hari (dalam Jam)</th>\n",
       "      <th>Aktivitas Online Meningkat</th>\n",
       "      <th>Aktivitas yang Meningkat dalam 3 Bulan Terakhir</th>\n",
       "      <th>layanan_aktif_1</th>\n",
       "      <th>...</th>\n",
       "      <th>cara_pembayaran_belanja_online_5</th>\n",
       "      <th>cara_pembayaran_belanja_online_6</th>\n",
       "      <th>cara_pembayaran_belanja_online_7</th>\n",
       "      <th>cara_pembayaran_belanja_online_8</th>\n",
       "      <th>keluhan_belanja_online_1</th>\n",
       "      <th>keluhan_belanja_online_2</th>\n",
       "      <th>keluhan_belanja_online_3</th>\n",
       "      <th>keluhan_belanja_online_4</th>\n",
       "      <th>keluhan_belanja_online_5</th>\n",
       "      <th>keluhan_belanja_online_6</th>\n",
       "    </tr>\n",
       "  </thead>\n",
       "  <tbody>\n",
       "    <tr>\n",
       "      <th>0</th>\n",
       "      <td>Pria</td>\n",
       "      <td>47</td>\n",
       "      <td>SMA</td>\n",
       "      <td>Pekerja serabutan (jaga kos, antar aqua galon,...</td>\n",
       "      <td>Rp 2 juta – Rp 5 juta</td>\n",
       "      <td>Bandung</td>\n",
       "      <td>300%</td>\n",
       "      <td>Sama saja</td>\n",
       "      <td>NaN</td>\n",
       "      <td>Mobile Banking</td>\n",
       "      <td>...</td>\n",
       "      <td>NaN</td>\n",
       "      <td>NaN</td>\n",
       "      <td>Melalui minimarket</td>\n",
       "      <td>NaN</td>\n",
       "      <td>Barang yang diperoleh tidak sesuai dengan spes...</td>\n",
       "      <td>Barang rusak/ salah tetapi tidak dapat dikemba...</td>\n",
       "      <td>NaN</td>\n",
       "      <td>NaN</td>\n",
       "      <td>NaN</td>\n",
       "      <td>NaN</td>\n",
       "    </tr>\n",
       "    <tr>\n",
       "      <th>1</th>\n",
       "      <td>Wanita</td>\n",
       "      <td>19</td>\n",
       "      <td>SMA</td>\n",
       "      <td>Pelajar / Mahasiswa</td>\n",
       "      <td>&lt; Rp 2 juta</td>\n",
       "      <td>Surabaya</td>\n",
       "      <td>1000%</td>\n",
       "      <td>Ya</td>\n",
       "      <td>Keperluan mengerjakan tugas</td>\n",
       "      <td>Mobile Banking</td>\n",
       "      <td>...</td>\n",
       "      <td>NaN</td>\n",
       "      <td>NaN</td>\n",
       "      <td>NaN</td>\n",
       "      <td>NaN</td>\n",
       "      <td>NaN</td>\n",
       "      <td>NaN</td>\n",
       "      <td>NaN</td>\n",
       "      <td>NaN</td>\n",
       "      <td>NaN</td>\n",
       "      <td>NaN</td>\n",
       "    </tr>\n",
       "    <tr>\n",
       "      <th>2</th>\n",
       "      <td>Pria</td>\n",
       "      <td>50</td>\n",
       "      <td>S1</td>\n",
       "      <td>Karyawan Swasta</td>\n",
       "      <td>Rp 5 juta – Rp 10 juta</td>\n",
       "      <td>Jakarta</td>\n",
       "      <td>600%</td>\n",
       "      <td>Ya</td>\n",
       "      <td>Melakukan video conference</td>\n",
       "      <td>Mobile Banking</td>\n",
       "      <td>...</td>\n",
       "      <td>NaN</td>\n",
       "      <td>NaN</td>\n",
       "      <td>NaN</td>\n",
       "      <td>NaN</td>\n",
       "      <td>NaN</td>\n",
       "      <td>NaN</td>\n",
       "      <td>NaN</td>\n",
       "      <td>NaN</td>\n",
       "      <td>NaN</td>\n",
       "      <td>NaN</td>\n",
       "    </tr>\n",
       "    <tr>\n",
       "      <th>3</th>\n",
       "      <td>Wanita</td>\n",
       "      <td>19</td>\n",
       "      <td>SMA</td>\n",
       "      <td>Pelajar / Mahasiswa</td>\n",
       "      <td>&lt; Rp 2 juta</td>\n",
       "      <td>Bandung</td>\n",
       "      <td>500%</td>\n",
       "      <td>Ya</td>\n",
       "      <td>Mengikuti kelas online</td>\n",
       "      <td>Mobile Banking</td>\n",
       "      <td>...</td>\n",
       "      <td>NaN</td>\n",
       "      <td>NaN</td>\n",
       "      <td>NaN</td>\n",
       "      <td>NaN</td>\n",
       "      <td>Barang yang diperoleh tidak sesuai dengan spes...</td>\n",
       "      <td>Barang rusak/ salah tetapi tidak dapat dikemba...</td>\n",
       "      <td>NaN</td>\n",
       "      <td>NaN</td>\n",
       "      <td>NaN</td>\n",
       "      <td>NaN</td>\n",
       "    </tr>\n",
       "    <tr>\n",
       "      <th>4</th>\n",
       "      <td>Pria</td>\n",
       "      <td>28</td>\n",
       "      <td>S1</td>\n",
       "      <td>Karyawan Swasta</td>\n",
       "      <td>Rp 5 juta – Rp 10 juta</td>\n",
       "      <td>Bandung</td>\n",
       "      <td>900%</td>\n",
       "      <td>Sama saja</td>\n",
       "      <td>NaN</td>\n",
       "      <td>Mobile Banking</td>\n",
       "      <td>...</td>\n",
       "      <td>Transfer via ATM</td>\n",
       "      <td>NaN</td>\n",
       "      <td>NaN</td>\n",
       "      <td>NaN</td>\n",
       "      <td>NaN</td>\n",
       "      <td>NaN</td>\n",
       "      <td>Pembayaran sudah dilakukan; barang tidak tersedia</td>\n",
       "      <td>NaN</td>\n",
       "      <td>Pembayaran telah dilakukan tetapi tidak terdet...</td>\n",
       "      <td>NaN</td>\n",
       "    </tr>\n",
       "  </tbody>\n",
       "</table>\n",
       "<p>5 rows × 150 columns</p>\n",
       "</div>"
      ],
      "text/plain": [
       "  Jenis Kelamin  Usia Pendidikan Terakhir  \\\n",
       "0          Pria    47                 SMA   \n",
       "1        Wanita    19                 SMA   \n",
       "2          Pria    50                  S1   \n",
       "3        Wanita    19                 SMA   \n",
       "4          Pria    28                  S1   \n",
       "\n",
       "                                           Pekerjaan   Penghasilan per Bulan  \\\n",
       "0  Pekerja serabutan (jaga kos, antar aqua galon,...   Rp 2 juta – Rp 5 juta   \n",
       "1                                Pelajar / Mahasiswa             < Rp 2 juta   \n",
       "2                                    Karyawan Swasta  Rp 5 juta – Rp 10 juta   \n",
       "3                                Pelajar / Mahasiswa             < Rp 2 juta   \n",
       "4                                    Karyawan Swasta  Rp 5 juta – Rp 10 juta   \n",
       "\n",
       "   Domisili Durasi Penggunaan Internet per Hari (dalam Jam)  \\\n",
       "0   Bandung                                            300%   \n",
       "1  Surabaya                                           1000%   \n",
       "2   Jakarta                                            600%   \n",
       "3   Bandung                                            500%   \n",
       "4   Bandung                                            900%   \n",
       "\n",
       "  Aktivitas Online Meningkat Aktivitas yang Meningkat dalam 3 Bulan Terakhir  \\\n",
       "0                  Sama saja                                             NaN   \n",
       "1                         Ya                    Keperluan mengerjakan tugas    \n",
       "2                         Ya                      Melakukan video conference   \n",
       "3                         Ya                          Mengikuti kelas online   \n",
       "4                  Sama saja                                             NaN   \n",
       "\n",
       "  layanan_aktif_1  ... cara_pembayaran_belanja_online_5  \\\n",
       "0  Mobile Banking  ...                              NaN   \n",
       "1  Mobile Banking  ...                              NaN   \n",
       "2  Mobile Banking  ...                              NaN   \n",
       "3  Mobile Banking  ...                              NaN   \n",
       "4  Mobile Banking  ...                 Transfer via ATM   \n",
       "\n",
       "  cara_pembayaran_belanja_online_6 cara_pembayaran_belanja_online_7  \\\n",
       "0                              NaN               Melalui minimarket   \n",
       "1                              NaN                              NaN   \n",
       "2                              NaN                              NaN   \n",
       "3                              NaN                              NaN   \n",
       "4                              NaN                              NaN   \n",
       "\n",
       "  cara_pembayaran_belanja_online_8  \\\n",
       "0                              NaN   \n",
       "1                              NaN   \n",
       "2                              NaN   \n",
       "3                              NaN   \n",
       "4                              NaN   \n",
       "\n",
       "                            keluhan_belanja_online_1  \\\n",
       "0  Barang yang diperoleh tidak sesuai dengan spes...   \n",
       "1                                                NaN   \n",
       "2                                                NaN   \n",
       "3  Barang yang diperoleh tidak sesuai dengan spes...   \n",
       "4                                                NaN   \n",
       "\n",
       "                            keluhan_belanja_online_2  \\\n",
       "0  Barang rusak/ salah tetapi tidak dapat dikemba...   \n",
       "1                                                NaN   \n",
       "2                                                NaN   \n",
       "3  Barang rusak/ salah tetapi tidak dapat dikemba...   \n",
       "4                                                NaN   \n",
       "\n",
       "                            keluhan_belanja_online_3 keluhan_belanja_online_4  \\\n",
       "0                                                NaN                      NaN   \n",
       "1                                                NaN                      NaN   \n",
       "2                                                NaN                      NaN   \n",
       "3                                                NaN                      NaN   \n",
       "4  Pembayaran sudah dilakukan; barang tidak tersedia                      NaN   \n",
       "\n",
       "                            keluhan_belanja_online_5 keluhan_belanja_online_6  \n",
       "0                                                NaN                      NaN  \n",
       "1                                                NaN                      NaN  \n",
       "2                                                NaN                      NaN  \n",
       "3                                                NaN                      NaN  \n",
       "4  Pembayaran telah dilakukan tetapi tidak terdet...                      NaN  \n",
       "\n",
       "[5 rows x 150 columns]"
      ]
     },
     "execution_count": 248,
     "metadata": {},
     "output_type": "execute_result"
    }
   ],
   "source": [
    "# Import Modules\n",
    "import pandas as pd\n",
    "import matplotlib.pyplot as plt\n",
    "import numpy as np\n",
    "import seaborn as sns\n",
    "\n",
    "\n",
    "# Import Data\n",
    "df_raw = pd.read_excel(\"../data/13222067.xlsx\", \"Sheet1\")\n",
    "df_raw.head()\n"
   ]
  },
  {
   "cell_type": "markdown",
   "metadata": {},
   "source": [
    "### Restructure/ Data"
   ]
  },
  {
   "cell_type": "code",
   "execution_count": 249,
   "metadata": {},
   "outputs": [
    {
     "name": "stdout",
     "output_type": "stream",
     "text": [
      "<class 'pandas.core.frame.DataFrame'>\n",
      "RangeIndex: 289 entries, 0 to 288\n",
      "Columns: 150 entries, Jenis Kelamin to keluhan_belanja_online_6\n",
      "dtypes: int64(1), object(149)\n",
      "memory usage: 338.8+ KB\n",
      "['Jenis Kelamin', 'Usia', 'Pendidikan Terakhir', 'Pekerjaan', 'Penghasilan per Bulan', 'Domisili', 'Durasi Penggunaan Internet per Hari (dalam Jam)', 'Aktivitas Online Meningkat', 'Aktivitas yang Meningkat dalam 3 Bulan Terakhir', 'layanan_aktif_1', 'layanan_aktif_2', 'layanan_aktif_3', 'layanan_aktif_4', 'layanan_aktif_5', 'layanan_aktif_6', 'bank_1', 'bank_2', 'bank_3', 'bank_4', 'bank_5', 'bank_6', 'bank_7', '18. Bagaimana frekuensi penggunaan Channel Bank berikut? [ATM]', '18. Bagaimana frekuensi penggunaan Channel Bank berikut? [Internet Banking ]', '18. Bagaimana frekuensi penggunaan Channel Bank berikut? [Mobile Banking ]', '18. Bagaimana frekuensi penggunaan Channel Bank berikut? [SMS Banking]', '18. Bagaimana frekuensi penggunaan Channel Bank berikut? [Datang ke cabang bank]', '19. Manakah channel/ layanan yang lebih Anda sukai ketika Anda akan menggunakan fitur-fitur layanan perbankan berikut? [Cek Saldo ]', '19. Manakah channel/ layanan yang lebih Anda sukai ketika Anda akan menggunakan fitur-fitur layanan perbankan berikut? [Mutasi Rekening]', '19. Manakah channel/ layanan yang lebih Anda sukai ketika Anda akan menggunakan fitur-fitur layanan perbankan berikut? [Transfer antar rekening (sesama bank)]', '19. Manakah channel/ layanan yang lebih Anda sukai ketika Anda akan menggunakan fitur-fitur layanan perbankan berikut? [Transfer antar bank]', '19. Manakah channel/ layanan yang lebih Anda sukai ketika Anda akan menggunakan fitur-fitur layanan perbankan berikut? [Pembelian Pulsa, eMoney atau voucher-voucher lain]', '19. Manakah channel/ layanan yang lebih Anda sukai ketika Anda akan menggunakan fitur-fitur layanan perbankan berikut? [Pembayaran Tagihan]', 'keluhan_1', 'keluhan_2', 'keluhan_3', 'keluhan_4', 'emoney_pilihan_1', 'emoney_pilihan_2', 'emoney_pilihan_3', 'emoney_pilihan_4', 'emoney_pilihan_5', 'emoney_pilihan_6', 'emoney_pilihan_7', 'emoney_pilihan_8', 'emoney_pilihan_9', 'emoney_pilihan_10', 'emoney_pilihan_11', 'alasan_pakai_emoney_1', 'alasan_pakai_emoney_2', 'alasan_pakai_emoney_3', 'alasan_pakai_emoney_4', 'alasan_pakai_emoney_5', 'penggunaan_emoney_1', 'penggunaan_emoney_2', 'penggunaan_emoney_3', 'penggunaan_emoney_4', 'penggunaan_emoney_5', 'penggunaan_emoney_6', 'penggunaan_emoney_7', 'penggunaan_emoney_8', 'penggunaan_emoney_9', 'penggunaan_emoney_10', 'cara_topup_emoney_1', 'cara_topup_emoney_2', 'cara_topup_emoney_3', 'cara_topup_emoney_4', 'cara_topup_emoney_5', 'cara_topup_emoney_6', 'cara_topup_emoney_7', '39. Berapa biasanya nominal Anda melakukan top up/ isi ulang?', '40. Berapa frekuensi top up/ Isi ulang ?', 'keluhan_emoney_1', 'keluhan_emoney_2', 'keluhan_emoney_3', 'keluhan_emoney_4', 'penggunaan_qr_1', 'penggunaan_qr_2', 'penggunaan_qr_3', 'penggunaan_qr_4', 'lokasi_qr_1', 'lokasi_qr_2', 'lokasi_qr_3', 'lokasi_qr_4', 'lokasi_qr_5', 'lokasi_qr_6', '45. Bagaimana frekuensi Anda melakukan belanja online dalam 6 bulan terakhir?', 'belanja_online_meningkat_6bln_terakhir_1', 'belanja_online_meningkat_6bln_terakhir_2', 'belanja_online_meningkat_6bln_terakhir_3', 'belanja_online_meningkat_6bln_terakhir_4', 'belanja_online_meningkat_6bln_terakhir_5', 'belanja_online_meningkat_6bln_terakhir_6', 'belanja_online_meningkat_6bln_terakhir_7', 'belanja_online_meningkat_6bln_terakhir_8', 'belanja_online_meningkat_6bln_terakhir_9', 'belanja_online_meningkat_6bln_terakhir_10', '47. Bagaimana kecenderungan Anda jika akan berbelanja hal-hal berikut? [fashion & mode]', '47. Bagaimana kecenderungan Anda jika akan berbelanja hal-hal berikut? [groceries / keperluan sehari- hari]', '47. Bagaimana kecenderungan Anda jika akan berbelanja hal-hal berikut? [handphone]', '47. Bagaimana kecenderungan Anda jika akan berbelanja hal-hal berikut? [laptop/computer]', '47. Bagaimana kecenderungan Anda jika akan berbelanja hal-hal berikut? [alat elektronik rumah tangga]', '47. Bagaimana kecenderungan Anda jika akan berbelanja hal-hal berikut? [kosmetik & alat kecantikan/ perawatan badan]', '47. Bagaimana kecenderungan Anda jika akan berbelanja hal-hal berikut? [buku, hobi & koleksi]', '47. Bagaimana kecenderungan Anda jika akan berbelanja hal-hal berikut? [pulsa (data & komunikasi)]', '47. Bagaimana kecenderungan Anda jika akan berbelanja hal-hal berikut? [makanan & minuman]', '47. Bagaimana kecenderungan Anda jika akan berbelanja hal-hal berikut? [tiket pesawat tiket kereta api hotel]', '47. Bagaimana kecenderungan Anda jika akan berbelanja hal-hal berikut? [tiket bioskop tiket wisata]', 'tempat_belanja_online_1', 'tempat_belanja_online_2', 'tempat_belanja_online_3', 'tempat_belanja_online_4', 'tempat_belanja_online_5', 'tempat_belanja_online_6', 'tempat_belanja_online_7', 'tempat_belanja_online_8', 'ecommerce_pilihan_1', 'ecommerce_pilihan_2', 'ecommerce_pilihan_3', 'ecommerce_pilihan_4', 'ecommerce_pilihan_5', 'ecommerce_pilihan_6', 'ecommerce_pilihan_7', 'ecommerce_pilihan_8', 'ecommerce_pilihan_9', 'ecommerce_pilihan_10', 'ecommerce_pilihan_11', 'ecommerce_pilihan_12', '50. Apakah Anda pernah menggunakan layanan Food Delivery (pembelian makanan/ minuman secara online )? Jika Pernah, mohon sebutkan layanan yang PALING sering Anda gunakan?', 'alasan_belanja_offline_1', 'alasan_belanja_offline_2', 'alasan_belanja_offline_3', 'alasan_belanja_offline_4', 'alasan_belanja_offline_5', 'alasan_belanja_offline_6', 'alasan_belanja_offline_7', 'cara_pembayaran_belanja_online_1', 'cara_pembayaran_belanja_online_2', 'cara_pembayaran_belanja_online_3', 'cara_pembayaran_belanja_online_4', 'cara_pembayaran_belanja_online_5', 'cara_pembayaran_belanja_online_6', 'cara_pembayaran_belanja_online_7', 'cara_pembayaran_belanja_online_8', 'keluhan_belanja_online_1', 'keluhan_belanja_online_2', 'keluhan_belanja_online_3', 'keluhan_belanja_online_4', 'keluhan_belanja_online_5', 'keluhan_belanja_online_6']\n"
     ]
    },
    {
     "data": {
      "text/html": [
       "<div>\n",
       "<style scoped>\n",
       "    .dataframe tbody tr th:only-of-type {\n",
       "        vertical-align: middle;\n",
       "    }\n",
       "\n",
       "    .dataframe tbody tr th {\n",
       "        vertical-align: top;\n",
       "    }\n",
       "\n",
       "    .dataframe thead th {\n",
       "        text-align: right;\n",
       "    }\n",
       "</style>\n",
       "<table border=\"1\" class=\"dataframe\">\n",
       "  <thead>\n",
       "    <tr style=\"text-align: right;\">\n",
       "      <th></th>\n",
       "      <th>jenis_kelamin</th>\n",
       "      <th>usia</th>\n",
       "      <th>pendidikan</th>\n",
       "      <th>pekerjaan</th>\n",
       "      <th>penghasilan</th>\n",
       "      <th>domisili</th>\n",
       "      <th>durasi_internet</th>\n",
       "      <th>aktivitas_online_meningkat</th>\n",
       "      <th>aktivitas_online_meningkat_3bln</th>\n",
       "      <th>layanan_aktif_1</th>\n",
       "      <th>...</th>\n",
       "      <th>bayar_online_5</th>\n",
       "      <th>bayar_online_6</th>\n",
       "      <th>bayar_online_7</th>\n",
       "      <th>bayar_online_8</th>\n",
       "      <th>keluhan_online_1</th>\n",
       "      <th>keluhan_online_2</th>\n",
       "      <th>keluhan_online_3</th>\n",
       "      <th>keluhan_online_4</th>\n",
       "      <th>keluhan_online_5</th>\n",
       "      <th>keluhan_online_6</th>\n",
       "    </tr>\n",
       "  </thead>\n",
       "  <tbody>\n",
       "    <tr>\n",
       "      <th>0</th>\n",
       "      <td>Pria</td>\n",
       "      <td>47</td>\n",
       "      <td>SMA</td>\n",
       "      <td>Pekerja serabutan (jaga kos, antar aqua galon,...</td>\n",
       "      <td>Rp 2 juta – Rp 5 juta</td>\n",
       "      <td>Bandung</td>\n",
       "      <td>300%</td>\n",
       "      <td>Sama saja</td>\n",
       "      <td>NaN</td>\n",
       "      <td>Mobile Banking</td>\n",
       "      <td>...</td>\n",
       "      <td>NaN</td>\n",
       "      <td>NaN</td>\n",
       "      <td>Melalui minimarket</td>\n",
       "      <td>NaN</td>\n",
       "      <td>Barang yang diperoleh tidak sesuai dengan spes...</td>\n",
       "      <td>Barang rusak/ salah tetapi tidak dapat dikemba...</td>\n",
       "      <td>NaN</td>\n",
       "      <td>NaN</td>\n",
       "      <td>NaN</td>\n",
       "      <td>NaN</td>\n",
       "    </tr>\n",
       "    <tr>\n",
       "      <th>1</th>\n",
       "      <td>Wanita</td>\n",
       "      <td>19</td>\n",
       "      <td>SMA</td>\n",
       "      <td>Pelajar / Mahasiswa</td>\n",
       "      <td>&lt; Rp 2 juta</td>\n",
       "      <td>Surabaya</td>\n",
       "      <td>1000%</td>\n",
       "      <td>Ya</td>\n",
       "      <td>Keperluan mengerjakan tugas</td>\n",
       "      <td>Mobile Banking</td>\n",
       "      <td>...</td>\n",
       "      <td>NaN</td>\n",
       "      <td>NaN</td>\n",
       "      <td>NaN</td>\n",
       "      <td>NaN</td>\n",
       "      <td>NaN</td>\n",
       "      <td>NaN</td>\n",
       "      <td>NaN</td>\n",
       "      <td>NaN</td>\n",
       "      <td>NaN</td>\n",
       "      <td>NaN</td>\n",
       "    </tr>\n",
       "    <tr>\n",
       "      <th>2</th>\n",
       "      <td>Pria</td>\n",
       "      <td>50</td>\n",
       "      <td>S1</td>\n",
       "      <td>Karyawan Swasta</td>\n",
       "      <td>Rp 5 juta – Rp 10 juta</td>\n",
       "      <td>Jakarta</td>\n",
       "      <td>600%</td>\n",
       "      <td>Ya</td>\n",
       "      <td>Melakukan video conference</td>\n",
       "      <td>Mobile Banking</td>\n",
       "      <td>...</td>\n",
       "      <td>NaN</td>\n",
       "      <td>NaN</td>\n",
       "      <td>NaN</td>\n",
       "      <td>NaN</td>\n",
       "      <td>NaN</td>\n",
       "      <td>NaN</td>\n",
       "      <td>NaN</td>\n",
       "      <td>NaN</td>\n",
       "      <td>NaN</td>\n",
       "      <td>NaN</td>\n",
       "    </tr>\n",
       "    <tr>\n",
       "      <th>3</th>\n",
       "      <td>Wanita</td>\n",
       "      <td>19</td>\n",
       "      <td>SMA</td>\n",
       "      <td>Pelajar / Mahasiswa</td>\n",
       "      <td>&lt; Rp 2 juta</td>\n",
       "      <td>Bandung</td>\n",
       "      <td>500%</td>\n",
       "      <td>Ya</td>\n",
       "      <td>Mengikuti kelas online</td>\n",
       "      <td>Mobile Banking</td>\n",
       "      <td>...</td>\n",
       "      <td>NaN</td>\n",
       "      <td>NaN</td>\n",
       "      <td>NaN</td>\n",
       "      <td>NaN</td>\n",
       "      <td>Barang yang diperoleh tidak sesuai dengan spes...</td>\n",
       "      <td>Barang rusak/ salah tetapi tidak dapat dikemba...</td>\n",
       "      <td>NaN</td>\n",
       "      <td>NaN</td>\n",
       "      <td>NaN</td>\n",
       "      <td>NaN</td>\n",
       "    </tr>\n",
       "    <tr>\n",
       "      <th>4</th>\n",
       "      <td>Pria</td>\n",
       "      <td>28</td>\n",
       "      <td>S1</td>\n",
       "      <td>Karyawan Swasta</td>\n",
       "      <td>Rp 5 juta – Rp 10 juta</td>\n",
       "      <td>Bandung</td>\n",
       "      <td>900%</td>\n",
       "      <td>Sama saja</td>\n",
       "      <td>NaN</td>\n",
       "      <td>Mobile Banking</td>\n",
       "      <td>...</td>\n",
       "      <td>Transfer via ATM</td>\n",
       "      <td>NaN</td>\n",
       "      <td>NaN</td>\n",
       "      <td>NaN</td>\n",
       "      <td>NaN</td>\n",
       "      <td>NaN</td>\n",
       "      <td>Pembayaran sudah dilakukan; barang tidak tersedia</td>\n",
       "      <td>NaN</td>\n",
       "      <td>Pembayaran telah dilakukan tetapi tidak terdet...</td>\n",
       "      <td>NaN</td>\n",
       "    </tr>\n",
       "  </tbody>\n",
       "</table>\n",
       "<p>5 rows × 150 columns</p>\n",
       "</div>"
      ],
      "text/plain": [
       "  jenis_kelamin  usia pendidikan  \\\n",
       "0          Pria    47        SMA   \n",
       "1        Wanita    19        SMA   \n",
       "2          Pria    50         S1   \n",
       "3        Wanita    19        SMA   \n",
       "4          Pria    28         S1   \n",
       "\n",
       "                                           pekerjaan             penghasilan  \\\n",
       "0  Pekerja serabutan (jaga kos, antar aqua galon,...   Rp 2 juta – Rp 5 juta   \n",
       "1                                Pelajar / Mahasiswa             < Rp 2 juta   \n",
       "2                                    Karyawan Swasta  Rp 5 juta – Rp 10 juta   \n",
       "3                                Pelajar / Mahasiswa             < Rp 2 juta   \n",
       "4                                    Karyawan Swasta  Rp 5 juta – Rp 10 juta   \n",
       "\n",
       "   domisili durasi_internet aktivitas_online_meningkat  \\\n",
       "0   Bandung            300%                  Sama saja   \n",
       "1  Surabaya           1000%                         Ya   \n",
       "2   Jakarta            600%                         Ya   \n",
       "3   Bandung            500%                         Ya   \n",
       "4   Bandung            900%                  Sama saja   \n",
       "\n",
       "  aktivitas_online_meningkat_3bln layanan_aktif_1  ...    bayar_online_5  \\\n",
       "0                             NaN  Mobile Banking  ...               NaN   \n",
       "1    Keperluan mengerjakan tugas   Mobile Banking  ...               NaN   \n",
       "2      Melakukan video conference  Mobile Banking  ...               NaN   \n",
       "3          Mengikuti kelas online  Mobile Banking  ...               NaN   \n",
       "4                             NaN  Mobile Banking  ...  Transfer via ATM   \n",
       "\n",
       "  bayar_online_6      bayar_online_7 bayar_online_8  \\\n",
       "0            NaN  Melalui minimarket            NaN   \n",
       "1            NaN                 NaN            NaN   \n",
       "2            NaN                 NaN            NaN   \n",
       "3            NaN                 NaN            NaN   \n",
       "4            NaN                 NaN            NaN   \n",
       "\n",
       "                                    keluhan_online_1  \\\n",
       "0  Barang yang diperoleh tidak sesuai dengan spes...   \n",
       "1                                                NaN   \n",
       "2                                                NaN   \n",
       "3  Barang yang diperoleh tidak sesuai dengan spes...   \n",
       "4                                                NaN   \n",
       "\n",
       "                                    keluhan_online_2  \\\n",
       "0  Barang rusak/ salah tetapi tidak dapat dikemba...   \n",
       "1                                                NaN   \n",
       "2                                                NaN   \n",
       "3  Barang rusak/ salah tetapi tidak dapat dikemba...   \n",
       "4                                                NaN   \n",
       "\n",
       "                                    keluhan_online_3 keluhan_online_4  \\\n",
       "0                                                NaN              NaN   \n",
       "1                                                NaN              NaN   \n",
       "2                                                NaN              NaN   \n",
       "3                                                NaN              NaN   \n",
       "4  Pembayaran sudah dilakukan; barang tidak tersedia              NaN   \n",
       "\n",
       "                                    keluhan_online_5 keluhan_online_6  \n",
       "0                                                NaN              NaN  \n",
       "1                                                NaN              NaN  \n",
       "2                                                NaN              NaN  \n",
       "3                                                NaN              NaN  \n",
       "4  Pembayaran telah dilakukan tetapi tidak terdet...              NaN  \n",
       "\n",
       "[5 rows x 150 columns]"
      ]
     },
     "execution_count": 249,
     "metadata": {},
     "output_type": "execute_result"
    }
   ],
   "source": [
    "# Data Dimension and Type\n",
    "df_raw.info()\n",
    "df_raw.shape\n",
    "\n",
    "# Column Names\n",
    "columnList = df_raw.columns.tolist()\n",
    "print(columnList)\n",
    "\n",
    "newColumnNames = [\n",
    "        # A. Intro\n",
    "        # 1. [0-8] Demographic\n",
    "        \"jenis_kelamin\", \"usia\", \"pendidikan\", \"pekerjaan\", \"penghasilan\", \"domisili\", \"durasi_internet\",  \"aktivitas_online_meningkat\", \"aktivitas_online_meningkat_3bln\"\n",
    "\n",
    "        # B. Bank\n",
    "        # 2. [9-14] Service/Layanan Aktif (Mobile Banking, ATM, Kartu Kredit, Internet Banking)\n",
    "        , \"layanan_aktif_1\", \"layanan_aktif_2\", \"layanan_aktif_3\", \"layanan_aktif_4\", \"layanan_aktif_5\", \"layanan_aktif_6\"\n",
    "        # 3. [15-21] Banks (BNI, Mandiri, BCA, CIMB, BRI, BTN, Permata)\n",
    "        , \"bank_1\", \"bank_2\", \"bank_3\", \"bank_4\", \"bank_5\", \"bank_6\", \"bank_7\"\n",
    "        # 4. [22-26] Channel Bank Frequency\n",
    "        , \"freq_atm\", \"freq_internet_bank\", \"freq_mobile_bank\", \"freq_sms_bank\", \"freq_cabang\"\n",
    "        # 5. [27-32] Liked Feature\n",
    "        , \"fitur_cekSaldo\", \"fitur_mutasi\", \"fitur_transfer_sesamabank\", \"fitur_transfer_antarbank\", \"fitur_pulsa\", \"fitur_tagihan\"\n",
    "        # 6. [33-36] Keluhan\n",
    "        , \"keluhan_1\", \"keluhan_2\", \"keluhan3\", \"keluhan 4\"\n",
    "\n",
    "        # C. E-Money\n",
    "        # 7. [37-47]emoney pilihan\n",
    "        , \"emoney_pilihan1\", \"emoney_pilihan2\", \"emoney_pilihan3\", \"emoney_pilihan4\", \"emoney_pilihan5\", \"emoney_pilihan6\"\n",
    "        , \"emoney_pilihan7\", \"emoney_pilihan8\", \"emoney_pilihan9\", \"emoney_pilihan10\", \"emoney_pilihan11\"\n",
    "        # 8. [48-52]alasan pilih emoney\n",
    "        , \"alasan_emoney_1\", \"alasan_emoney_2\", \"alasan_emoney_3\", \"alasan_emoney_4\", \"alasan_money_5\"\n",
    "        # 9. [53-62]penggunaan emoney\n",
    "        , \"penggunaan_emoney_1\", \"penggunaan_emoney_2\", \"penggunaan_emoney_3\", \"penggunaan_emoney_4\", \"penggunaan_emoney_5\"\n",
    "        , \"penggunaan_emoney_6\", \"penggunaan_emoney_7\", \"penggunaan_emoney_8\", \"penggunaan_emoney_9\", \"penggunaan_emoney_10\"\n",
    "        # 10. [63-69]cara topup\n",
    "        , \"cara_topup_emoney_1\", \"cara_topup_emoney_2\", \"cara_topup_emoney_3\", \"cara_topup_emoney_4\", \"cara_topup_emoney_5\", \"cara_topup_emoney_6\", \"cara_topup_emoney_7\"\n",
    "        # 11. [70-71]nominal dan frekuensi topup\n",
    "        , \"nominal_topup\", \"freq_topup\"\n",
    "        # 12. [72-75]keluhan emoney\n",
    "        , \"keluhan_emoney_1\", \"keluhan_emoney_2\", \"keluhan_emoney_3\", \"keluhan_emoney_4\"\n",
    "        # 13. [76-79]penggunaan qr\n",
    "        , \"penggunaan_qr_1\", \"penggunaan_qr_2\", \"penggunaan_qr_3\", \"penggunaan_qr_4\"\n",
    "        # 14. [80-85]lokasi qr\n",
    "        , \"lokasi_qr_1\", \"lokasi_qr_2\", \"lokasi_qr_3\", \"lokasi_qr_4\", \"lokasi_qr_5\", \"lokasi_qr_6\"\n",
    "\n",
    "        # D. Belanja\n",
    "        # 15. [86]Frekuensi Belanja\n",
    "        , \"freq_belanja_6bln\"\n",
    "        # 16. [87-96]Belanja Online Meningkat 6 Bulan\n",
    "        , \"belanja_online_1\", \"belanja_online_2\", \"belanja_online_3\", \"belanja_online_4\", \"belanja_online_5\"\n",
    "        , \"belanja_online_6\", \"belanja_online_7\", \"belanja_online_8\", \"belanja_online_9\", \"belanja_online_10\"\n",
    "        # 17. [97-107]Kecenderungan Belanja\n",
    "        , \"belanja_fashion\", \"belanja_groceries\", \"belanja_hp\", \"belanja_laptop\", \"belanja_elektronik\"\n",
    "        , \"belanja_kosmetik\", \"belanja_hobi\", \"belanja_pulsa\", \"belanja_makanan\", \"belanja_pesawat\", \"belanja_bioskop\"\n",
    "        # 18. [108-115]Tempat Belanja Online\n",
    "        , \"tempat_belanja_online_1\", \"tempat_belanja_online_2\", \"tempat_belanja_online_3\", \"tempat_belanja_online_4\"\n",
    "        , \"tempat_belanja_online_5\", \"tempat_belanja_online_6\", \"tempat_belanja_online_7\", \"tempat_belanja_online_8\"\n",
    "        # 19. [116-127]Ecommerce dan [128]Food Delivery\n",
    "        , \"ecommerce_1\", \"ecommerce_2\", \"ecommerce_3\", \"ecommerce_4\", \"ecommerce_5\", \"ecommerce_6\"\n",
    "        , \"ecommerce_7\", \"ecommerce_8\", \"ecommerce_9\", \"ecommerce_10\", \"ecommerce_11\", \"ecommerce_12\"\n",
    "        , \"foodDelivery\"\n",
    "        # 20. [129-136]Alasan Belanja Offline\n",
    "        , \"alasan_offline_1\", \"alasan_offline_2\", \"alasan_offline_3\", \"alasan_offline_4\", \"alasan_offline_5\", \"alasan_offline_6\", \"alasan_offline_7\"\n",
    "        # 21. [137-144]Cara bayar Online\n",
    "        , \"bayar_online_1\", \"bayar_online_2\", \"bayar_online_3\", \"bayar_online_4\", \"bayar_online_5\", \"bayar_online_6\", \"bayar_online_7\", \"bayar_online_8\"\n",
    "        # 22. [145-150]Keluhan Online\n",
    "        , \"keluhan_online_1\", \"keluhan_online_2\", \"keluhan_online_3\", \"keluhan_online_4\", \"keluhan_online_5\", \"keluhan_online_6\"\n",
    "        ]\n",
    "# columnList[len(newColumnNames)-1]\n",
    "# print(columnList[86])\n",
    "\n",
    "df_renamed = df_raw.set_axis(newColumnNames, axis=1)\n",
    "df_renamed.head()\n"
   ]
  },
  {
   "cell_type": "markdown",
   "metadata": {},
   "source": [
    "### Remove Inconsistent Data Entry"
   ]
  },
  {
   "cell_type": "code",
   "execution_count": 250,
   "metadata": {},
   "outputs": [
    {
     "name": "stdout",
     "output_type": "stream",
     "text": [
      "['Ambon' 'BEKASI' 'Balikpapan' 'Bandung' 'Bekasi' 'Bekasi ' 'Bogor'\n",
      " 'Bondowoso ' 'Cikarang' 'Cilegon' 'Cimahi' 'Depok' 'Depok ' 'Garut'\n",
      " 'Hsinchu' 'Jakarta' 'Jatinangor' 'Kab. Garut' 'Kabupaten Bogor'\n",
      " 'Kalimantan Barat' 'Karawang' 'Lampung' 'Magetan' 'Majalengka' 'Makassar'\n",
      " 'Malang' 'Medan' 'Medan ' 'PURWOKERTO ' 'Padang' 'Palembang'\n",
      " 'Pekalongan ' 'Pontianak' 'Purwokerto' 'Purworejo' 'Semarang'\n",
      " 'Singapura ' 'Singkawang' 'Sorong' 'Sumatera Barat' 'Surabaya'\n",
      " 'Surakarta' 'Tangerang' 'Tangerang Selatan' 'Tangerang Selatan '\n",
      " 'Tasikmalaya' 'Yogyakarta' 'bogor' 'depok' 'semarang']\n"
     ]
    }
   ],
   "source": [
    "print(np.sort(df_renamed[\"domisili\"].unique()))\n",
    "# print(df_renamed[\"durasi_internet\"].unique())\n"
   ]
  },
  {
   "cell_type": "code",
   "execution_count": 251,
   "metadata": {},
   "outputs": [
    {
     "name": "stdout",
     "output_type": "stream",
     "text": [
      "['ambon' 'balikpapan' 'bandung' 'bekasi' 'bogor' 'bondowoso' 'cikarang'\n",
      " 'cilegon' 'cimahi' 'depok' 'garut' 'hsinchu' 'jakarta' 'jatinangor'\n",
      " 'kab. garut' 'kabupaten bogor' 'kalimantan barat' 'karawang' 'lampung'\n",
      " 'magetan' 'majalengka' 'makassar' 'malang' 'medan' 'padang' 'palembang'\n",
      " 'pekalongan' 'pontianak' 'purwokerto' 'purworejo' 'semarang' 'singapura'\n",
      " 'singkawang' 'sorong' 'sumatera barat' 'surabaya' 'surakarta' 'tangerang'\n",
      " 'tangerang selatan' 'tasikmalaya' 'yogyakarta']\n"
     ]
    }
   ],
   "source": [
    "df_renamed['domisili'] = df_renamed['domisili'].str.lower() # Remove Uppercase\n",
    "df_renamed['domisili'] = df_renamed['domisili'].str.strip() # Remove whitespace\n",
    "print(np.sort(df_renamed[\"domisili\"].unique()))"
   ]
  },
  {
   "cell_type": "code",
   "execution_count": 252,
   "metadata": {},
   "outputs": [
    {
     "name": "stdout",
     "output_type": "stream",
     "text": [
      "['ambon' 'balikpapan' 'bandung' 'bekasi' 'bogor' 'bondowoso' 'cikarang'\n",
      " 'cilegon' 'cimahi' 'depok' 'garut' 'hsinchu' 'jakarta' 'jatinangor'\n",
      " 'kalimantan barat' 'karawang' 'lampung' 'magetan' 'majalengka' 'makassar'\n",
      " 'malang' 'medan' 'padang' 'palembang' 'pekalongan' 'pontianak'\n",
      " 'purwokerto' 'purworejo' 'semarang' 'singapura' 'singkawang' 'sorong'\n",
      " 'sumatera barat' 'surabaya' 'surakarta' 'tangerang' 'tangerang selatan'\n",
      " 'tasikmalaya' 'yogyakarta']\n"
     ]
    }
   ],
   "source": [
    "df_renamed['domisili'] = df_renamed['domisili'].replace('kabupaten bogor', 'bogor')\n",
    "df_renamed['domisili'] = df_renamed['domisili'].replace('kab. garut', 'garut')\n",
    "print(np.sort(df_renamed[\"domisili\"].unique()))"
   ]
  },
  {
   "cell_type": "code",
   "execution_count": 253,
   "metadata": {},
   "outputs": [
    {
     "name": "stdout",
     "output_type": "stream",
     "text": [
      "domisili\n",
      "bandung              82\n",
      "jakarta              75\n",
      "tangerang            21\n",
      "medan                14\n",
      "bekasi               13\n",
      "bogor                11\n",
      "yogyakarta           11\n",
      "surabaya              7\n",
      "semarang              6\n",
      "depok                 5\n",
      "palembang             3\n",
      "malang                3\n",
      "lampung               3\n",
      "cilegon               3\n",
      "pontianak             3\n",
      "garut                 2\n",
      "makassar              2\n",
      "tangerang selatan     2\n",
      "purwokerto            2\n",
      "cimahi                2\n",
      "pekalongan            1\n",
      "kalimantan barat      1\n",
      "bondowoso             1\n",
      "tasikmalaya           1\n",
      "sumatera barat        1\n",
      "singkawang            1\n",
      "jatinangor            1\n",
      "cikarang              1\n",
      "surakarta             1\n",
      "padang                1\n",
      "ambon                 1\n",
      "karawang              1\n",
      "balikpapan            1\n",
      "majalengka            1\n",
      "singapura             1\n",
      "magetan               1\n",
      "hsinchu               1\n",
      "purworejo             1\n",
      "sorong                1\n",
      "Name: count, dtype: int64\n"
     ]
    }
   ],
   "source": [
    "print(df_renamed[\"domisili\"].value_counts())"
   ]
  },
  {
   "cell_type": "code",
   "execution_count": 254,
   "metadata": {},
   "outputs": [
    {
     "data": {
      "text/plain": [
       "array(['300%', '1000%', '600%', '500%', '900%', nan, '2000%', '1400%',\n",
       "       '1200%', '800%', '700%', '1600%', '2400%', '400%', '1700%',\n",
       "       '1800%', '1500%', '1300%', '200%', '100%'], dtype=object)"
      ]
     },
     "execution_count": 254,
     "metadata": {},
     "output_type": "execute_result"
    }
   ],
   "source": [
    "df_renamed[\"durasi_internet\"].unique()"
   ]
  },
  {
   "cell_type": "code",
   "execution_count": 255,
   "metadata": {},
   "outputs": [
    {
     "name": "stdout",
     "output_type": "stream",
     "text": [
      "<FloatingArray>\n",
      "[ 3.0, 10.0,  6.0,  5.0,  9.0, <NA>, 20.0, 14.0, 12.0,  8.0,  7.0, 16.0, 24.0,\n",
      "  4.0, 17.0, 18.0, 15.0, 13.0,  2.0,  1.0]\n",
      "Length: 20, dtype: Float64\n"
     ]
    }
   ],
   "source": [
    "df_renamed['durasi_internet'] = df_renamed['durasi_internet'].str.rstrip('%')\n",
    "df_renamed['durasi_internet'] = df_renamed['durasi_internet'].astype(\"float\")/100\n",
    "print(df_renamed[\"durasi_internet\"].unique())"
   ]
  },
  {
   "cell_type": "markdown",
   "metadata": {},
   "source": [
    "### Handle Missing Values"
   ]
  },
  {
   "cell_type": "code",
   "execution_count": 256,
   "metadata": {},
   "outputs": [
    {
     "name": "stdout",
     "output_type": "stream",
     "text": [
      "jenis_kelamin           : 0/289 (0.0)\n",
      "usia           : 0/289 (0.0)\n",
      "pendidikan           : 0/289 (0.0)\n",
      "pekerjaan           : 0/289 (0.0)\n",
      "penghasilan           : 0/289 (0.0)\n",
      "domisili           : 0/289 (0.0)\n",
      "durasi_internet           : 84/289 (0.2906574394463668)\n",
      "aktivitas_online_meningkat           : 2/289 (0.006920415224913495)\n"
     ]
    }
   ],
   "source": [
    "df_demo = df_renamed.iloc[:, 0:8]\n",
    "null_values = (df_demo.isnull().sum())\n",
    "total_values = (df_demo.shape[0])\n",
    "for col in df_demo.columns:\n",
    "    print(\"{}           : {}/{} ({})\".format(col, null_values[col], total_values, null_values[col]/total_values))"
   ]
  },
  {
   "cell_type": "markdown",
   "metadata": {},
   "source": [
    "### Handle Outliers"
   ]
  },
  {
   "cell_type": "code",
   "execution_count": 257,
   "metadata": {},
   "outputs": [
    {
     "name": "stdout",
     "output_type": "stream",
     "text": [
      "289\n"
     ]
    },
    {
     "data": {
      "text/plain": [
       "<Axes: xlabel='usia'>"
      ]
     },
     "execution_count": 257,
     "metadata": {},
     "output_type": "execute_result"
    },
    {
     "data": {
      "image/png": "[encoded data removed]",
      "text/plain": [
       "<Figure size 640x480 with 1 Axes>"
      ]
     },
     "metadata": {},
     "output_type": "display_data"
    }
   ],
   "source": [
    "print(df_renamed.shape[0])\n",
    "sns.boxplot(data=df_renamed, x=df_renamed[\"usia\"])"
   ]
  },
  {
   "cell_type": "code",
   "execution_count": 258,
   "metadata": {},
   "outputs": [
    {
     "name": "stdout",
     "output_type": "stream",
     "text": [
      "0 79.0\n"
     ]
    }
   ],
   "source": [
    "q1 = df_renamed[\"usia\"].quantile(0.25)\n",
    "q3 = df_renamed[\"usia\"].quantile(0.75)\n",
    "iqr = q3-q1\n",
    "lowerbound = 0\n",
    "upperbound = q3+1.5*iqr\n",
    "print(lowerbound, upperbound)"
   ]
  },
  {
   "cell_type": "code",
   "execution_count": 259,
   "metadata": {},
   "outputs": [
    {
     "name": "stdout",
     "output_type": "stream",
     "text": [
      "288\n"
     ]
    },
    {
     "data": {
      "text/plain": [
       "<Axes: xlabel='usia'>"
      ]
     },
     "execution_count": 259,
     "metadata": {},
     "output_type": "execute_result"
    },
    {
     "data": {
      "image/png": "[encoded data removed]",
      "text/plain": [
       "<Figure size 640x480 with 1 Axes>"
      ]
     },
     "metadata": {},
     "output_type": "display_data"
    }
   ],
   "source": [
    "df_renamed = df_renamed[(df_renamed[\"usia\"]>lowerbound) & (df_renamed[\"usia\"]<upperbound)]\n",
    "print(df_renamed.shape[0])\n",
    "sns.boxplot(data=df_renamed, x=df_renamed[\"usia\"])\n",
    "\n",
    "# Only dropped 1 value :,) So it's alright"
   ]
  },
  {
   "cell_type": "code",
   "execution_count": 260,
   "metadata": {},
   "outputs": [],
   "source": [
    "df_renamed.to_csv(\"../data/13222067_cleaned.csv\", index=False)"
   ]
  }
 ],
 "metadata": {
  "kernelspec": {
   "display_name": "Python 3",
   "language": "python",
   "name": "python3"
  },
  "language_info": {
   "codemirror_mode": {
    "name": "ipython",
    "version": 3
   },
   "file_extension": ".py",
   "mimetype": "text/x-python",
   "name": "python",
   "nbconvert_exporter": "python",
   "pygments_lexer": "ipython3",
   "version": "3.11.6"
  }
 },
 "nbformat": 4,
 "nbformat_minor": 2
}
